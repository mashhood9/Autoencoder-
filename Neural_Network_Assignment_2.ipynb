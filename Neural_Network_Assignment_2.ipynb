{
  "nbformat": 4,
  "nbformat_minor": 0,
  "metadata": {
    "kernelspec": {
      "display_name": "Python 3.7.4 64-bit ('base': conda)",
      "language": "python",
      "name": "python37464bitbaseconda4a625cb7c9634685b5978c932e7531ee"
    },
    "language_info": {
      "codemirror_mode": {
        "name": "ipython",
        "version": 3
      },
      "file_extension": ".py",
      "mimetype": "text/x-python",
      "name": "python",
      "nbconvert_exporter": "python",
      "pygments_lexer": "ipython3",
      "version": "3.7.4"
    },
    "colab": {
      "name": "Neural Network - Assignment 2.ipynb",
      "provenance": [],
      "include_colab_link": true
    }
  },
  "cells": [
    {
      "cell_type": "markdown",
      "metadata": {
        "id": "view-in-github",
        "colab_type": "text"
      },
      "source": [
        "<a href=\"https://colab.research.google.com/github/mashhood9/Autoencoder-/blob/master/Neural_Network_Assignment_2.ipynb\" target=\"_parent\"><img src=\"https://colab.research.google.com/assets/colab-badge.svg\" alt=\"Open In Colab\"/></a>"
      ]
    },
    {
      "cell_type": "markdown",
      "metadata": {
        "id": "xDqXdjJ-qkjm",
        "colab_type": "text"
      },
      "source": [
        "Prashant Tripathi, \n",
        "CSE, 3rd yr, \n",
        "17238"
      ]
    },
    {
      "cell_type": "markdown",
      "metadata": {
        "id": "YMeICixAqkjq",
        "colab_type": "text"
      },
      "source": [
        "# Explain Classification Evaluation metrics."
      ]
    },
    {
      "cell_type": "markdown",
      "metadata": {
        "id": "VJZ2Nnh7qkjt",
        "colab_type": "text"
      },
      "source": [
        "Different classification evaluation metrics are:\n",
        "\n",
        "## F1 Score\n",
        "\n",
        "The F1 score is a measure of a test's accuracy. It is the harmonic mean of the precision and recall, where an F1 score reaches its best value at 1 (perfect precision and recall). It is also known as Sorensen-Dice coefficient or Dice similarity coefficient (DSC).\n",
        "\n",
        "It comes from the confusion matrix. Based on the confusion matrix, we can calculate the precision and then recall scores.\n",
        "\n",
        "Precision score: this is the measure of the accuracy, provided that a class label has been predicted. Simply put, it answers the following question - of all the classes, how many were correctly predicted? The answer to this question should be as high as possible.\n",
        "\n",
        "It can be calculated as follows:\n",
        "\n",
        "$$Precision = {TP \\over {TP+FP}}$$\n",
        "\n",
        "The F1 score is calculated based on the precision and recall of each class. It is the weighted average of the Precision and the recall scores. The F1 score reaches its perfect value at one and worst at 0. It is a very good way to show that a classifier has a good recall and precision values.\n",
        "\n",
        "We can calculate it using this formula:\n",
        "\n",
        "$$F1\\ Score = 2 * {Precision ∗ Recall \\over {Precision+Recall}}$$\n",
        "\n",
        "## ROC Curve\n",
        "\n",
        "A Receiver Operator Characteristic (ROC) curve is a graphical plot used to show the diagnostic ability of binary classifiers.\n",
        "\n",
        "A ROC curve is constructed by plotting the true positive rate (TPR) against the false positive rate (FPR). The true positive rate is the proportion of observations that were correctly predicted to be positive out of all positive observations (TP/(TP + FN)). Similarly, the false positive rate is the proportion of observations that are incorrectly predicted to be positive out of all negative observations (FP/(TN + FP)).\n",
        "\n",
        "The ROC curve shows the trade-off between sensitivity (or TPR) and specificity (1 – FPR). Classifiers that give curves closer to the top-left corner indicate a better performance. As a baseline, a random classifier is expected to give points lying along the diagonal (FPR = TPR). The closer the curve comes to the 45-degree diagonal of the ROC space, the less accurate the test.\n",
        "\n",
        "\n",
        "## Log loss\n",
        "\n",
        "We can use the log loss in cases where the outcome of the classifier is a class probability and not a class label like in cases of logistic regression models.\n",
        "\n",
        "Log loss measures the performance of a model where the predicted outcome is a probability value between 0 and 1.\n",
        "\n",
        "In real life when predicting a probability of 0.101 when the true label should be 1 would result in a high log loss. Log loss can be calculated for each row in the data set using the Log loss equation:\n",
        "\n",
        "$$L = (y * \\log(\\hat{y}) + (1 - y) + \\log(1 - \\hat{y}))$$\n",
        "\n",
        "The equation simply measures how far each predicted probability is from the actual label. An average of the log loss from all the rows gives the ideal value for the log loss.\n",
        "\n",
        "$$Lloss = -{1 \\over n} \\sum {(y * \\log(\\hat{y}) + (1 - y) + \\log(1 - \\hat{y}}))$$\n",
        "\n",
        "A good model should have a smaller log loss value.\n",
        "\n",
        "Cross Entropy:\n",
        "\n",
        "Log loss and cross entropy are measures of error used in machine learning. The underlying math is the same. Log loss is usually used when there are just two possible outcomes that can be either 0 or 1. Cross entropy is usually used when there are three or more possible outcomes."
      ]
    },
    {
      "cell_type": "markdown",
      "metadata": {
        "id": "wRUX0Z6tqkjv",
        "colab_type": "text"
      },
      "source": [
        "# Write about Hessian Matrix, definite matrix and relate it with eigen values."
      ]
    },
    {
      "cell_type": "markdown",
      "metadata": {
        "id": "6Ork5nU6qkjy",
        "colab_type": "text"
      },
      "source": [
        "The Hessian matrix or Hessian is a square matrix of second-order partial derivatives of a scalar-valued function, or scalar field. It describes the local curvature of a function of many variables.\n",
        "The determinant of the Hessian matrix is called the Hessian determinant.\n",
        "\n",
        "The Hessian matrix of a function f is the Jacobian matrix of the gradient of the function: H(f(x)) = J(∇f(x)).\n",
        "\n",
        "Meaning of Eigenvalues:\n",
        "Because the Hessian of an equation is a square matrix, its eigenvalues can be found. Because Hessians are also symmetric (the original and the transpose are the same), they have a special property that their eigenvalues will always be real numbers. So the only thing of concern is whether the eigenvalues are positive or negative.\n",
        "\n",
        "If the Hessian at a given point has all positive eigenvalues, it is said to be a positive-definite\n",
        "matrix. This is the multivariable equivalent of “concave up”.\n",
        "\n",
        "\n",
        "If all of the eigenvalues are negative, it is said to be a negative-definite matrix. This is like “concave down”.\n",
        "\n",
        "\n",
        "If the eigenvalues are mixed (one positive, one negative), you have a saddle point: Here, the graph is concave up in one direction and concave down in the other.\n",
        "\n",
        "\n",
        "Definite matrix:\n",
        "\n",
        "Definition: Let $$A = \n",
        " \\begin{bmatrix}\n",
        "  a_{1,1} & a_{1,2} & \\cdots & a_{1,n} \\\\\n",
        "  a_{2,1} & a_{2,2} & \\cdots & a_{2,n} \\\\\n",
        "  \\vdots  & \\vdots  & \\ddots & \\vdots  \\\\\n",
        "  a_{m,1} & a_{m,2} & \\cdots & a_{m,n} \n",
        " \\end{bmatrix}$$ be a n×n symmetric matrix,\n",
        "\n",
        "and let $$Di = \n",
        " \\begin{bmatrix}\n",
        "  a_{1,1} & a_{1,2} & \\cdots & a_{1,i} \\\\\n",
        "  a_{2,1} & a_{2,2} & \\cdots & a_{2,i} \\\\\n",
        "  \\vdots  & \\vdots  & \\ddots & \\vdots  \\\\\n",
        "  a_{i,1} & a_{i,2} & \\cdots & a_{i,i} \n",
        " \\end{bmatrix}$$\n",
        "\n",
        "for i=1, 2, ..., n.\n",
        "\n",
        "Then:\n",
        "1. A is said to be Positive Definite if Di>0 for i=1,2,...,n.\n",
        "1. A is said to be Negative Definite if Di<0 for odd i∈{1,2,...,n} and Di>0 for even i∈{1,2,...,n}.\n",
        "1. A is said to be Indefinite if det(A)=Dn≠0 and neither a) nor b) hold.\n",
        "1. If det(A)=Dn=0, then A may be Indefinite or what is known Positive Semidefinite or Negative Semidefinite.\n",
        "\n",
        "Eigenvalues:\n",
        "\n",
        "Let M be an n × n Hermitian matrix. (A real valued Hermitian matrix is a symmetric matrix)\n",
        "* M is positive definite if and only if all of its eigenvalues are positive.\n",
        "* M is positive semi-definite if and only if all of its eigenvalues are non-negative.\n",
        "* M is negative definite if and only if all of its eigenvalues are negative\n",
        "* M is negative semi-definite if and only if all of its eigenvalues are non-positive.\n",
        "* M is indefinite if and only if it has both positive and negative eigenvalues."
      ]
    },
    {
      "cell_type": "markdown",
      "metadata": {
        "id": "dLpFSdSfqkj0",
        "colab_type": "text"
      },
      "source": [
        "# What is Regularization? Explain Lasso and ridge regression in Linear Regression."
      ]
    },
    {
      "cell_type": "markdown",
      "metadata": {
        "id": "2V5USxBnqkj3",
        "colab_type": "text"
      },
      "source": [
        "## Regularization\n",
        "\n",
        "This is a form of regression, that constrains/regularizes or shrinks the coefficient estimates towards zero. In other words, this technique discourages learning a more complex or flexible model, so as to avoid the risk of overfitting.\n",
        "\n",
        "A simple relation for linear regression looks like this. Here Y represents the learned relation\n",
        "and β represents the coefficient estimates for different variables or predictors(X).\n",
        "\n",
        "Y ≈ β0 + β1X1 + β2X2 + ...+ βpXp\n",
        "\n",
        "The fitting procedure involves a loss function, known as residual sum of squares or RSS. The\n",
        "coefficients are chosen, such that they minimize this loss function.\n",
        "\n",
        "$$RSS = \\sum_{\\substack{1 \\leq i \\leq n}} (y_i - \\beta_0 - \\sum_{\\substack{1 \\leq j \\leq p}} \\beta_{j}x_{ij})^2$$\n",
        "\n",
        "Now, this will adjust the coefficients based on your training data. If there is noise in the training\n",
        "data, then the estimated coefficients won’t generalize well to the future data. This is where\n",
        "regularization comes in and shrinks or regularizes these learned estimates towards zero.\n",
        "\n",
        "## Ridge Regression\n",
        "\n",
        "$$\\sum_{\\substack{1 \\leq i \\leq n}} (y_i - \\beta_0 - \\sum_{\\substack{1 \\leq j \\leq p}} \\beta_{j}x_{ij})^2 + \\lambda \\sum_{\\substack{1 \\leq j \\leq p}} \\beta_{j}^2 \n",
        "= RSS + \\lambda \\sum_{\\substack{1 \\leq j \\leq p}} \\beta_{j}^2$$\n",
        "\n",
        "Above formula shows ridge regression, where the RSS is modified by adding the shrinkage quantity. Now, the coefficients are estimated by minimizing this function. Here, λ is the tuning parameter that decides how much we want to penalize the flexibility of our model. The increase in flexibility of a model is represented by increase in its coefficients, and if we want to minimize the above function, then these coefficients need to be small. This is how the Ridge regression technique prevents coefficients from rising too high. Also, notice that we shrink the estimated\n",
        "association of each variable with the response, except the intercept β0, This intercept is a\n",
        "measure of the mean value of the response when xi1 = xi2 = ...= xip = 0.\n",
        "\n",
        "When λ = 0, the penalty term has no effect, and the estimates produced by ridge regression will be equal to least squares. However, as λ→∞, the impact of the shrinkage penalty grows, and the ridge regression coefficient estimates will approach zero. As can be seen, selecting a good value of λ is critical. Cross validation comes in handy for this purpose. The coefficient estimates produced by this method are also known as the L2 norm.\n",
        "\n",
        "The coefficients that are produced by the standard least squares method are scale equivariant,\n",
        "i.e. if we multiply each input by c then the corresponding coefficients are scaled by a factor of\n",
        "1/c. Therefore, regardless of how the predictor is scaled, the multiplication of predictor and\n",
        "coefficient(Xjβj) remains the same. However, this is not the case with ridge regression, and\n",
        "therefore, we need to standardize the predictors or bring the predictors to the same scale before\n",
        "performing ridge regression. The formula used to do this is given below.\n",
        "\n",
        "$$\\tilde{x}_{ij} = {x_{ij} \\over \\sqrt{\\frac{1}{n} \\sum_{\\substack{1 \\leq i \\leq n}}(x_{ij} - \\bar{x_j})^2}}$$\n",
        "\n",
        "## Lasso\n",
        "\n",
        "$$\\sum_{\\substack{1 \\leq i \\leq n}} (y_i - \\beta_0 - \\sum_{\\substack{1 \\leq j \\leq p}} \\beta_{j}x_{ij})^2 + \\lambda \\sum_{\\substack{1 \\leq j \\leq p}} |\\beta_{j}^2| \n",
        "= RSS + \\lambda \\sum_{\\substack{1 \\leq j \\leq p}} |\\beta_{j}^2|$$\n",
        "\n",
        "Lasso is another variation, in which the above function is minimized. Its clear that this variation\n",
        "differs from ridge regression only in penalizing the high coefficients. It uses |βj|(modulus)instead of squares of β, as its penalty. In statistics, this is known as the L1 norm.\n",
        "\n",
        "Lets take a look at above methods with a different perspective. The ridge regression can be thought of as solving an equation, where summation of squares of coefficients is less than or equal to s. And the Lasso can be thought of as an equation where summation of modulus of coefficients is less than or equal to s. Here, s is a constant that exists for each value of shrinkage factor λ. These equations are also referred to as constraint functions.\n",
        "\n",
        "Consider their are 2 parameters in a given problem. Then according to above formulation, the ridge regression is expressed by β12 + β22 ≤ s. This implies that ridge regression coefficients have the smallest RSS(loss function) for all points that lie within the circle given by β12 + β22 ≤ s.\n",
        "\n",
        "Similarly, for lasso, the equation becomes,|β1|+|β2|≤ s. This implies that lasso coefficients have the smallest RSS(loss function) for all points that lie within the diamond given by |β1|+|β2|≤ s."
      ]
    },
    {
      "cell_type": "markdown",
      "metadata": {
        "id": "yLRjTA1lqkj6",
        "colab_type": "text"
      },
      "source": [
        "# Implement PCA on Iris Data Set"
      ]
    },
    {
      "cell_type": "code",
      "metadata": {
        "id": "UL4SL9spqkj9",
        "colab_type": "code",
        "colab": {}
      },
      "source": [
        "import numpy as np\n",
        "import pandas as pd\n",
        "import seaborn as sns"
      ],
      "execution_count": null,
      "outputs": []
    },
    {
      "cell_type": "markdown",
      "metadata": {
        "id": "bBZh6sW9qkkO",
        "colab_type": "text"
      },
      "source": [
        "## Download Dataset"
      ]
    },
    {
      "cell_type": "code",
      "metadata": {
        "id": "8DUXfGbWrHXx",
        "colab_type": "code",
        "colab": {}
      },
      "source": [
        ""
      ],
      "execution_count": null,
      "outputs": []
    },
    {
      "cell_type": "code",
      "metadata": {
        "id": "L7EfNv4rqkkS",
        "colab_type": "code",
        "colab": {}
      },
      "source": [
        "link = \"https://archive.ics.uci.edu/ml/machine-learning-databases/iris/iris.data\"\n",
        "df1 = pd.read_csv(link, names=['sl','sw','pl','pw','target'])"
      ],
      "execution_count": null,
      "outputs": []
    },
    {
      "cell_type": "markdown",
      "metadata": {
        "id": "iTrWuz_Qqkkg",
        "colab_type": "text"
      },
      "source": [
        "## Preprocess Data"
      ]
    },
    {
      "cell_type": "code",
      "metadata": {
        "id": "gvs3sWYuqkki",
        "colab_type": "code",
        "colab": {}
      },
      "source": [
        "df=df1.copy(deep=True)\n",
        "for j in ['sl','sw','pl','pw']:\n",
        "    d=df[j].std()\n",
        "    m=df[j].mean()\n",
        "    for i in range(0,150):\n",
        "        df.loc[i,j]=(df.loc[i,j]-m)/d\n"
      ],
      "execution_count": null,
      "outputs": []
    },
    {
      "cell_type": "markdown",
      "metadata": {
        "id": "aS820Ko0qkkv",
        "colab_type": "text"
      },
      "source": [
        "## Compute Co-Variance Matrix"
      ]
    },
    {
      "cell_type": "code",
      "metadata": {
        "id": "8GwSh2Ztqkkx",
        "colab_type": "code",
        "colab": {},
        "outputId": "e713b925-8e82-4a1b-e1a1-33c0140e32f4"
      },
      "source": [
        "A=np.array(df.cov())\n",
        "df.cov()"
      ],
      "execution_count": null,
      "outputs": [
        {
          "output_type": "execute_result",
          "data": {
            "text/html": [
              "<div>\n",
              "<style scoped>\n",
              "    .dataframe tbody tr th:only-of-type {\n",
              "        vertical-align: middle;\n",
              "    }\n",
              "\n",
              "    .dataframe tbody tr th {\n",
              "        vertical-align: top;\n",
              "    }\n",
              "\n",
              "    .dataframe thead th {\n",
              "        text-align: right;\n",
              "    }\n",
              "</style>\n",
              "<table border=\"1\" class=\"dataframe\">\n",
              "  <thead>\n",
              "    <tr style=\"text-align: right;\">\n",
              "      <th></th>\n",
              "      <th>sl</th>\n",
              "      <th>sw</th>\n",
              "      <th>pl</th>\n",
              "      <th>pw</th>\n",
              "    </tr>\n",
              "  </thead>\n",
              "  <tbody>\n",
              "    <tr>\n",
              "      <td>sl</td>\n",
              "      <td>1.000000</td>\n",
              "      <td>-0.109369</td>\n",
              "      <td>0.871754</td>\n",
              "      <td>0.817954</td>\n",
              "    </tr>\n",
              "    <tr>\n",
              "      <td>sw</td>\n",
              "      <td>-0.109369</td>\n",
              "      <td>1.000000</td>\n",
              "      <td>-0.420516</td>\n",
              "      <td>-0.356544</td>\n",
              "    </tr>\n",
              "    <tr>\n",
              "      <td>pl</td>\n",
              "      <td>0.871754</td>\n",
              "      <td>-0.420516</td>\n",
              "      <td>1.000000</td>\n",
              "      <td>0.962757</td>\n",
              "    </tr>\n",
              "    <tr>\n",
              "      <td>pw</td>\n",
              "      <td>0.817954</td>\n",
              "      <td>-0.356544</td>\n",
              "      <td>0.962757</td>\n",
              "      <td>1.000000</td>\n",
              "    </tr>\n",
              "  </tbody>\n",
              "</table>\n",
              "</div>"
            ],
            "text/plain": [
              "          sl        sw        pl        pw\n",
              "sl  1.000000 -0.109369  0.871754  0.817954\n",
              "sw -0.109369  1.000000 -0.420516 -0.356544\n",
              "pl  0.871754 -0.420516  1.000000  0.962757\n",
              "pw  0.817954 -0.356544  0.962757  1.000000"
            ]
          },
          "metadata": {
            "tags": []
          },
          "execution_count": 4
        }
      ]
    },
    {
      "cell_type": "code",
      "metadata": {
        "id": "EuEQzyUzqklB",
        "colab_type": "code",
        "colab": {},
        "outputId": "52415b00-698e-4650-ee12-a9ec86ea35c1"
      },
      "source": [
        "import seaborn as sns\n",
        "import matplotlib.pyplot as plt\n",
        "plt.figure(figsize=(8,8))\n",
        "sns.set(font_scale=1.8) \n",
        "sns.heatmap(df.cov(),annot=True,annot_kws={\"size\": 15},cmap='RdYlGn')\n",
        "plt.show()"
      ],
      "execution_count": null,
      "outputs": [
        {
          "output_type": "display_data",
          "data": {
            "image/png": "[encoded data removed]",
            "text/plain": [
              "<Figure size 576x576 with 2 Axes>"
            ]
          },
          "metadata": {
            "tags": [],
            "needs_background": "light"
          }
        }
      ]
    },
    {
      "cell_type": "markdown",
      "metadata": {
        "id": "P0NuiK-UqklY",
        "colab_type": "text"
      },
      "source": [
        "## Factorize the covariance matrix using SVD"
      ]
    },
    {
      "cell_type": "code",
      "metadata": {
        "id": "LLrvWpY2qkla",
        "colab_type": "code",
        "colab": {}
      },
      "source": [
        "from scipy.linalg import svd\n",
        "u,s,v=svd(A)"
      ],
      "execution_count": null,
      "outputs": []
    },
    {
      "cell_type": "code",
      "metadata": {
        "id": "YNjs5Smtqkll",
        "colab_type": "code",
        "colab": {},
        "outputId": "06208e19-7156-483d-fb5a-96e8b7c30b47"
      },
      "source": [
        "print(u)\n",
        "print(s)\n",
        "print(v)\n",
        "eig_vals=s\n",
        "eig_vecs=u"
      ],
      "execution_count": null,
      "outputs": [
        {
          "output_type": "stream",
          "text": [
            "[[-0.52237162 -0.37231836  0.72101681  0.26199559]\n",
            " [ 0.26335492 -0.92555649 -0.24203288 -0.12413481]\n",
            " [-0.58125401 -0.02109478 -0.14089226 -0.80115427]\n",
            " [-0.56561105 -0.06541577 -0.6338014   0.52354627]]\n",
            "[2.91081808 0.92122093 0.14735328 0.02060771]\n",
            "[[-0.52237162  0.26335492 -0.58125401 -0.56561105]\n",
            " [-0.37231836 -0.92555649 -0.02109478 -0.06541577]\n",
            " [ 0.72101681 -0.24203288 -0.14089226 -0.6338014 ]\n",
            " [ 0.26199559 -0.12413481 -0.80115427  0.52354627]]\n"
          ],
          "name": "stdout"
        }
      ]
    },
    {
      "cell_type": "code",
      "metadata": {
        "id": "SiUUsl_Pqklx",
        "colab_type": "code",
        "colab": {},
        "outputId": "a2762053-18f2-46b9-d3f4-ef83b8a1a0a8"
      },
      "source": [
        "eig_pairs = [(np.abs(eig_vals[i]), eig_vecs[:,i]) for i in range(len(eig_vals))]\n",
        "\n",
        "eig_pairs.sort(key=lambda x: x[0], reverse=True)\n",
        "\n",
        "print('Eigenvalues in descending order:')\n",
        "for i in eig_pairs:\n",
        "    print(i[0])"
      ],
      "execution_count": null,
      "outputs": [
        {
          "output_type": "stream",
          "text": [
            "Eigenvalues in descending order:\n",
            "2.910818083752055\n",
            "0.9212209307072249\n",
            "0.14735327830509581\n",
            "0.020607707235626296\n"
          ],
          "name": "stdout"
        }
      ]
    },
    {
      "cell_type": "markdown",
      "metadata": {
        "id": "Vb5hb0PUqkl7",
        "colab_type": "text"
      },
      "source": [
        "### Projection Matrix"
      ]
    },
    {
      "cell_type": "code",
      "metadata": {
        "id": "gJHIZauxqkl9",
        "colab_type": "code",
        "colab": {},
        "outputId": "3b10c903-c8af-4038-8f48-841fc2362573"
      },
      "source": [
        "matrix_w = np.hstack((eig_pairs[0][1].reshape(4,1),\n",
        "                      eig_pairs[1][1].reshape(4,1)))\n",
        "\n",
        "print('Matrix W:\\n', matrix_w)\n"
      ],
      "execution_count": null,
      "outputs": [
        {
          "output_type": "stream",
          "text": [
            "Matrix W:\n",
            " [[-0.52237162 -0.37231836]\n",
            " [ 0.26335492 -0.92555649]\n",
            " [-0.58125401 -0.02109478]\n",
            " [-0.56561105 -0.06541577]]\n"
          ],
          "name": "stdout"
        }
      ]
    },
    {
      "cell_type": "markdown",
      "metadata": {
        "id": "w3PrrsJhqkmJ",
        "colab_type": "text"
      },
      "source": [
        "## Projecting the data onto its first two principal components"
      ]
    },
    {
      "cell_type": "code",
      "metadata": {
        "id": "w7G8ysl5qkmL",
        "colab_type": "code",
        "colab": {}
      },
      "source": [
        "features = ['sl', 'sw', 'pl', 'pw']\n",
        "x = df.loc[:, features].values\n",
        "y = df.loc[:,['target']].values"
      ],
      "execution_count": null,
      "outputs": []
    },
    {
      "cell_type": "code",
      "metadata": {
        "id": "5FKaFihFqkmV",
        "colab_type": "code",
        "colab": {}
      },
      "source": [
        "pc=x.dot(matrix_w)"
      ],
      "execution_count": null,
      "outputs": []
    },
    {
      "cell_type": "code",
      "metadata": {
        "id": "Ki3A2a5aqkmh",
        "colab_type": "code",
        "colab": {}
      },
      "source": [
        "principalDf = pd.DataFrame(pc, columns = ['pc1', 'pc2'])"
      ],
      "execution_count": null,
      "outputs": []
    },
    {
      "cell_type": "code",
      "metadata": {
        "id": "OABMOkCHqkmr",
        "colab_type": "code",
        "colab": {},
        "outputId": "beb42bcd-1e37-4f49-8962-7bf31e7e129b"
      },
      "source": [
        "finalDf = pd.concat([principalDf, df[['target']]], axis = 1)\n",
        "\n",
        "print(finalDf.head(5))"
      ],
      "execution_count": null,
      "outputs": [
        {
          "output_type": "stream",
          "text": [
            "        pc1       pc2       target\n",
            "0  2.256981 -0.504015  Iris-setosa\n",
            "1  2.079459  0.653216  Iris-setosa\n",
            "2  2.360044  0.317414  Iris-setosa\n",
            "3  2.296504  0.573447  Iris-setosa\n",
            "4  2.380802 -0.672514  Iris-setosa\n"
          ],
          "name": "stdout"
        }
      ]
    },
    {
      "cell_type": "code",
      "metadata": {
        "id": "yqv-G0GNqkm4",
        "colab_type": "code",
        "colab": {},
        "outputId": "8837d361-10f9-4b8a-be04-02cf06e574dc"
      },
      "source": [
        "fig = plt.figure(figsize = (8,8))\n",
        "ax = fig.add_subplot(1,1,1) \n",
        "ax.set_xlabel('Principal Component 1')\n",
        "ax.set_ylabel('Principal Component 2')\n",
        "targets = ['Iris-setosa', 'Iris-versicolor', 'Iris-virginica']\n",
        "colors = ['r', 'g', 'b']\n",
        "for target, color in zip(targets,colors):\n",
        "    indicesToKeep = finalDf['target'] == target\n",
        "    ax.scatter(finalDf.loc[indicesToKeep, 'pc1'], finalDf.loc[indicesToKeep, 'pc2'], c = color, s = 50)\n",
        "ax.legend(targets)"
      ],
      "execution_count": null,
      "outputs": [
        {
          "output_type": "execute_result",
          "data": {
            "text/plain": [
              "<matplotlib.legend.Legend at 0x7f6dce79ab50>"
            ]
          },
          "metadata": {
            "tags": []
          },
          "execution_count": 14
        },
        {
          "output_type": "display_data",
          "data": {
            "image/png": "[encoded data removed]",
            "text/plain": [
              "<Figure size 576x576 with 1 Axes>"
            ]
          },
          "metadata": {
            "tags": []
          }
        }
      ]
    },
    {
      "cell_type": "markdown",
      "metadata": {
        "id": "SCSYIh4bqknC",
        "colab_type": "text"
      },
      "source": [
        "### Training And Testing Data\n"
      ]
    },
    {
      "cell_type": "code",
      "metadata": {
        "id": "09qQZFXZqknD",
        "colab_type": "code",
        "colab": {}
      },
      "source": [
        "from sklearn.model_selection import train_test_split\n",
        "from sklearn.linear_model import LogisticRegression\n",
        "from sklearn.metrics import accuracy_score,confusion_matrix,classification_report\n"
      ],
      "execution_count": null,
      "outputs": []
    },
    {
      "cell_type": "code",
      "metadata": {
        "id": "KseBX2lIqknM",
        "colab_type": "code",
        "colab": {},
        "outputId": "589c7967-1c99-44cf-b4ab-b6e34f8aae81"
      },
      "source": [
        "x_train,x_test,y_train,y_test = train_test_split(pc,y.ravel(),test_size=0.20,random_state=1)\n",
        "logmodel=LogisticRegression(solver='lbfgs', multi_class='auto')\n",
        "logmodel.fit(x_train,y_train)\n",
        "pred = logmodel.predict(x_test)\n",
        "a=classification_report(y_test,pred)\n",
        "b=confusion_matrix(y_test,pred)\n",
        "c=accuracy_score(y_test,pred)\n",
        "print(a)\n",
        "print(\"Confusion Matrix=\\n\")\n",
        "print(b)\n",
        "print(\"\\nAccuracy Score=\",c)"
      ],
      "execution_count": null,
      "outputs": [
        {
          "output_type": "stream",
          "text": [
            "                 precision    recall  f1-score   support\n",
            "\n",
            "    Iris-setosa       1.00      1.00      1.00        11\n",
            "Iris-versicolor       1.00      0.92      0.96        13\n",
            " Iris-virginica       0.86      1.00      0.92         6\n",
            "\n",
            "       accuracy                           0.97        30\n",
            "      macro avg       0.95      0.97      0.96        30\n",
            "   weighted avg       0.97      0.97      0.97        30\n",
            "\n",
            "Confusion Matrix=\n",
            "\n",
            "[[11  0  0]\n",
            " [ 0 12  1]\n",
            " [ 0  0  6]]\n",
            "\n",
            "Accuracy Score= 0.9666666666666667\n"
          ],
          "name": "stdout"
        }
      ]
    }
  ]
}